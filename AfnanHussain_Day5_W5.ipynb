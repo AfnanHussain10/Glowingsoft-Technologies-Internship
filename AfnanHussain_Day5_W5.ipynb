{
  "nbformat": 4,
  "nbformat_minor": 0,
  "metadata": {
    "colab": {
      "provenance": []
    },
    "kernelspec": {
      "name": "python3",
      "display_name": "Python 3"
    },
    "language_info": {
      "name": "python"
    }
  },
  "cells": [
    {
      "cell_type": "code",
      "execution_count": null,
      "metadata": {
        "id": "FcSN22Fh1DBu"
      },
      "outputs": [],
      "source": [
        "import requests\n",
        "from bs4 import BeautifulSoup\n",
        "import pandas as pd\n",
        "import numpy as np\n",
        "import seaborn as sns\n",
        "import matplotlib.pyplot as plt"
      ]
    },
    {
      "cell_type": "code",
      "source": [
        "def scrape_property_details(base_url, num_pages):\n",
        "    property_data = []\n",
        "\n",
        "    for page_num in range(1, num_pages + 1):\n",
        "        page_url = f\"{base_url}-{page_num}.html\"\n",
        "        response = requests.get(page_url)\n",
        "\n",
        "        if response.status_code == 200:\n",
        "            soup = BeautifulSoup(response.content, \"html.parser\")\n",
        "            articles = soup.find_all('article')\n",
        "\n",
        "            for article in articles:\n",
        "                href = article.find('a')['href']\n",
        "                ad = requests.get(\"https://www.zameen.com\" + href)\n",
        "                soup = BeautifulSoup(ad.content, \"html.parser\")\n",
        "                details_ul = soup.find('ul', class_=\"_033281ab\")\n",
        "\n",
        "                if details_ul:\n",
        "                    details = details_ul.find_all('li')\n",
        "                    property_details = {\"City\": base_url.split('/')[-1].split('-')[0].capitalize()}\n",
        "\n",
        "                    for detail in details:\n",
        "                        label_span = detail.find('span', class_=\"_3af7fa95\")\n",
        "                        value_span = detail.find('span', class_=\"_812aa185\")\n",
        "\n",
        "                        if label_span and value_span:\n",
        "                            label = label_span.get_text().strip()\n",
        "                            value = value_span.get_text().strip()\n",
        "\n",
        "                            property_details[label] = value\n",
        "\n",
        "                    property_data.append(property_details)\n",
        "        else:\n",
        "            print(f\"Failed to retrieve page: {page_url}\")\n",
        "\n",
        "    return property_data"
      ],
      "metadata": {
        "id": "KdoMcXve8bF5"
      },
      "execution_count": null,
      "outputs": []
    },
    {
      "cell_type": "code",
      "source": [
        "num_pages = 10\n",
        "all_property_data = []\n",
        "base_urls = [\n",
        "    \"https://www.zameen.com/Homes/Lahore-1\",\n",
        "    \"https://www.zameen.com/Homes/Islamabad-3\",\n",
        "    \"https://www.zameen.com/Homes/Karachi-2\",\n",
        "    \"https://www.zameen.com/Homes/Gujranwala-327\",\n",
        "    \"https://www.zameen.com/Homes/Rawalpindi-41\"\n",
        "]\n",
        "\n",
        "for base_url in base_urls:\n",
        "    property_data = scrape_property_details(base_url, num_pages)\n",
        "    all_property_data.extend(property_data)\n",
        "\n",
        "# Create a DataFrame from all the property data\n",
        "data = pd.DataFrame(all_property_data)"
      ],
      "metadata": {
        "id": "0-x_SbIvQRf-"
      },
      "execution_count": null,
      "outputs": []
    },
    {
      "cell_type": "code",
      "source": [
        "df = data"
      ],
      "metadata": {
        "id": "L90pmtYjSF1s"
      },
      "execution_count": null,
      "outputs": []
    },
    {
      "cell_type": "code",
      "source": [
        "columns_to_drop = ['Initial Amount', 'Monthly Installment', 'Remaining Installments', 'Added']\n",
        "df = df.drop(columns=columns_to_drop)\n",
        "df"
      ],
      "metadata": {
        "colab": {
          "base_uri": "https://localhost:8080/",
          "height": 467
        },
        "id": "n3q1K9n5VzyC",
        "outputId": "a759366d-e241-4b07-b058-427bd5133d19"
      },
      "execution_count": null,
      "outputs": [
        {
          "output_type": "execute_result",
          "data": {
            "text/plain": [
              "            City   Type          Price  \\\n",
              "0         Lahore  House  PKR1.25 Crore   \n",
              "1         Lahore  House     PKR81 Lakh   \n",
              "2         Lahore  House  PKR1.35 Crore   \n",
              "3         Lahore  House   PKR4.2 Crore   \n",
              "4         Lahore  House   PKR3.1 Crore   \n",
              "...          ...    ...            ...   \n",
              "1245  Rawalpindi  House   PKR1.9 Crore   \n",
              "1246  Rawalpindi  House   PKR2.1 Crore   \n",
              "1247  Rawalpindi  House  PKR4.15 Crore   \n",
              "1248  Rawalpindi  House  PKR1.85 Crore   \n",
              "1249  Rawalpindi  House  PKR4.15 Crore   \n",
              "\n",
              "                                         Location Bath(s)       Area  \\\n",
              "0     Central Park Housing Scheme, Lahore, Punjab       4  3.5 Marla   \n",
              "1                Thokar Niaz Baig, Lahore, Punjab       3    3 Marla   \n",
              "2                  Park View City, Lahore, Punjab       4    5 Marla   \n",
              "3                     Bahria Town, Lahore, Punjab       5   10 Marla   \n",
              "4                     Bahria Town, Lahore, Punjab       5    8 Marla   \n",
              "...                                           ...     ...        ...   \n",
              "1245   Bahria Town Rawalpindi, Rawalpindi, Punjab       -    5 Marla   \n",
              "1246   Bahria Town Rawalpindi, Rawalpindi, Punjab       -    5 Marla   \n",
              "1247   Bahria Town Rawalpindi, Rawalpindi, Punjab       6   10 Marla   \n",
              "1248   Bahria Town Rawalpindi, Rawalpindi, Punjab       4    5 Marla   \n",
              "1249   Bahria Town Rawalpindi, Rawalpindi, Punjab       6   10 Marla   \n",
              "\n",
              "       Purpose Bedroom(s)  \n",
              "0     For Sale          4  \n",
              "1     For Sale          3  \n",
              "2     For Sale          4  \n",
              "3     For Sale          5  \n",
              "4     For Sale          5  \n",
              "...        ...        ...  \n",
              "1245  For Sale          -  \n",
              "1246  For Sale          -  \n",
              "1247  For Sale          5  \n",
              "1248  For Sale          3  \n",
              "1249  For Sale          5  \n",
              "\n",
              "[1250 rows x 8 columns]"
            ],
            "text/html": [
              "\n",
              "\n",
              "  <div id=\"df-bfebc3ff-8ee4-4992-a7cd-9827e0e491c1\">\n",
              "    <div class=\"colab-df-container\">\n",
              "      <div>\n",
              "<style scoped>\n",
              "    .dataframe tbody tr th:only-of-type {\n",
              "        vertical-align: middle;\n",
              "    }\n",
              "\n",
              "    .dataframe tbody tr th {\n",
              "        vertical-align: top;\n",
              "    }\n",
              "\n",
              "    .dataframe thead th {\n",
              "        text-align: right;\n",
              "    }\n",
              "</style>\n",
              "<table border=\"1\" class=\"dataframe\">\n",
              "  <thead>\n",
              "    <tr style=\"text-align: right;\">\n",
              "      <th></th>\n",
              "      <th>City</th>\n",
              "      <th>Type</th>\n",
              "      <th>Price</th>\n",
              "      <th>Location</th>\n",
              "      <th>Bath(s)</th>\n",
              "      <th>Area</th>\n",
              "      <th>Purpose</th>\n",
              "      <th>Bedroom(s)</th>\n",
              "    </tr>\n",
              "  </thead>\n",
              "  <tbody>\n",
              "    <tr>\n",
              "      <th>0</th>\n",
              "      <td>Lahore</td>\n",
              "      <td>House</td>\n",
              "      <td>PKR1.25 Crore</td>\n",
              "      <td>Central Park Housing Scheme, Lahore, Punjab</td>\n",
              "      <td>4</td>\n",
              "      <td>3.5 Marla</td>\n",
              "      <td>For Sale</td>\n",
              "      <td>4</td>\n",
              "    </tr>\n",
              "    <tr>\n",
              "      <th>1</th>\n",
              "      <td>Lahore</td>\n",
              "      <td>House</td>\n",
              "      <td>PKR81 Lakh</td>\n",
              "      <td>Thokar Niaz Baig, Lahore, Punjab</td>\n",
              "      <td>3</td>\n",
              "      <td>3 Marla</td>\n",
              "      <td>For Sale</td>\n",
              "      <td>3</td>\n",
              "    </tr>\n",
              "    <tr>\n",
              "      <th>2</th>\n",
              "      <td>Lahore</td>\n",
              "      <td>House</td>\n",
              "      <td>PKR1.35 Crore</td>\n",
              "      <td>Park View City, Lahore, Punjab</td>\n",
              "      <td>4</td>\n",
              "      <td>5 Marla</td>\n",
              "      <td>For Sale</td>\n",
              "      <td>4</td>\n",
              "    </tr>\n",
              "    <tr>\n",
              "      <th>3</th>\n",
              "      <td>Lahore</td>\n",
              "      <td>House</td>\n",
              "      <td>PKR4.2 Crore</td>\n",
              "      <td>Bahria Town, Lahore, Punjab</td>\n",
              "      <td>5</td>\n",
              "      <td>10 Marla</td>\n",
              "      <td>For Sale</td>\n",
              "      <td>5</td>\n",
              "    </tr>\n",
              "    <tr>\n",
              "      <th>4</th>\n",
              "      <td>Lahore</td>\n",
              "      <td>House</td>\n",
              "      <td>PKR3.1 Crore</td>\n",
              "      <td>Bahria Town, Lahore, Punjab</td>\n",
              "      <td>5</td>\n",
              "      <td>8 Marla</td>\n",
              "      <td>For Sale</td>\n",
              "      <td>5</td>\n",
              "    </tr>\n",
              "    <tr>\n",
              "      <th>...</th>\n",
              "      <td>...</td>\n",
              "      <td>...</td>\n",
              "      <td>...</td>\n",
              "      <td>...</td>\n",
              "      <td>...</td>\n",
              "      <td>...</td>\n",
              "      <td>...</td>\n",
              "      <td>...</td>\n",
              "    </tr>\n",
              "    <tr>\n",
              "      <th>1245</th>\n",
              "      <td>Rawalpindi</td>\n",
              "      <td>House</td>\n",
              "      <td>PKR1.9 Crore</td>\n",
              "      <td>Bahria Town Rawalpindi, Rawalpindi, Punjab</td>\n",
              "      <td>-</td>\n",
              "      <td>5 Marla</td>\n",
              "      <td>For Sale</td>\n",
              "      <td>-</td>\n",
              "    </tr>\n",
              "    <tr>\n",
              "      <th>1246</th>\n",
              "      <td>Rawalpindi</td>\n",
              "      <td>House</td>\n",
              "      <td>PKR2.1 Crore</td>\n",
              "      <td>Bahria Town Rawalpindi, Rawalpindi, Punjab</td>\n",
              "      <td>-</td>\n",
              "      <td>5 Marla</td>\n",
              "      <td>For Sale</td>\n",
              "      <td>-</td>\n",
              "    </tr>\n",
              "    <tr>\n",
              "      <th>1247</th>\n",
              "      <td>Rawalpindi</td>\n",
              "      <td>House</td>\n",
              "      <td>PKR4.15 Crore</td>\n",
              "      <td>Bahria Town Rawalpindi, Rawalpindi, Punjab</td>\n",
              "      <td>6</td>\n",
              "      <td>10 Marla</td>\n",
              "      <td>For Sale</td>\n",
              "      <td>5</td>\n",
              "    </tr>\n",
              "    <tr>\n",
              "      <th>1248</th>\n",
              "      <td>Rawalpindi</td>\n",
              "      <td>House</td>\n",
              "      <td>PKR1.85 Crore</td>\n",
              "      <td>Bahria Town Rawalpindi, Rawalpindi, Punjab</td>\n",
              "      <td>4</td>\n",
              "      <td>5 Marla</td>\n",
              "      <td>For Sale</td>\n",
              "      <td>3</td>\n",
              "    </tr>\n",
              "    <tr>\n",
              "      <th>1249</th>\n",
              "      <td>Rawalpindi</td>\n",
              "      <td>House</td>\n",
              "      <td>PKR4.15 Crore</td>\n",
              "      <td>Bahria Town Rawalpindi, Rawalpindi, Punjab</td>\n",
              "      <td>6</td>\n",
              "      <td>10 Marla</td>\n",
              "      <td>For Sale</td>\n",
              "      <td>5</td>\n",
              "    </tr>\n",
              "  </tbody>\n",
              "</table>\n",
              "<p>1250 rows × 8 columns</p>\n",
              "</div>\n",
              "      <button class=\"colab-df-convert\" onclick=\"convertToInteractive('df-bfebc3ff-8ee4-4992-a7cd-9827e0e491c1')\"\n",
              "              title=\"Convert this dataframe to an interactive table.\"\n",
              "              style=\"display:none;\">\n",
              "\n",
              "  <svg xmlns=\"http://www.w3.org/2000/svg\" height=\"24px\"viewBox=\"0 0 24 24\"\n",
              "       width=\"24px\">\n",
              "    <path d=\"M0 0h24v24H0V0z\" fill=\"none\"/>\n",
              "    <path d=\"M18.56 5.44l.94 2.06.94-2.06 2.06-.94-2.06-.94-.94-2.06-.94 2.06-2.06.94zm-11 1L8.5 8.5l.94-2.06 2.06-.94-2.06-.94L8.5 2.5l-.94 2.06-2.06.94zm10 10l.94 2.06.94-2.06 2.06-.94-2.06-.94-.94-2.06-.94 2.06-2.06.94z\"/><path d=\"M17.41 7.96l-1.37-1.37c-.4-.4-.92-.59-1.43-.59-.52 0-1.04.2-1.43.59L10.3 9.45l-7.72 7.72c-.78.78-.78 2.05 0 2.83L4 21.41c.39.39.9.59 1.41.59.51 0 1.02-.2 1.41-.59l7.78-7.78 2.81-2.81c.8-.78.8-2.07 0-2.86zM5.41 20L4 18.59l7.72-7.72 1.47 1.35L5.41 20z\"/>\n",
              "  </svg>\n",
              "      </button>\n",
              "\n",
              "\n",
              "\n",
              "    <div id=\"df-d08b068a-8793-40c6-b185-c4d26dc4eab0\">\n",
              "      <button class=\"colab-df-quickchart\" onclick=\"quickchart('df-d08b068a-8793-40c6-b185-c4d26dc4eab0')\"\n",
              "              title=\"Suggest charts.\"\n",
              "              style=\"display:none;\">\n",
              "\n",
              "<svg xmlns=\"http://www.w3.org/2000/svg\" height=\"24px\"viewBox=\"0 0 24 24\"\n",
              "     width=\"24px\">\n",
              "    <g>\n",
              "        <path d=\"M19 3H5c-1.1 0-2 .9-2 2v14c0 1.1.9 2 2 2h14c1.1 0 2-.9 2-2V5c0-1.1-.9-2-2-2zM9 17H7v-7h2v7zm4 0h-2V7h2v10zm4 0h-2v-4h2v4z\"/>\n",
              "    </g>\n",
              "</svg>\n",
              "      </button>\n",
              "    </div>\n",
              "\n",
              "<style>\n",
              "  .colab-df-quickchart {\n",
              "    background-color: #E8F0FE;\n",
              "    border: none;\n",
              "    border-radius: 50%;\n",
              "    cursor: pointer;\n",
              "    display: none;\n",
              "    fill: #1967D2;\n",
              "    height: 32px;\n",
              "    padding: 0 0 0 0;\n",
              "    width: 32px;\n",
              "  }\n",
              "\n",
              "  .colab-df-quickchart:hover {\n",
              "    background-color: #E2EBFA;\n",
              "    box-shadow: 0px 1px 2px rgba(60, 64, 67, 0.3), 0px 1px 3px 1px rgba(60, 64, 67, 0.15);\n",
              "    fill: #174EA6;\n",
              "  }\n",
              "\n",
              "  [theme=dark] .colab-df-quickchart {\n",
              "    background-color: #3B4455;\n",
              "    fill: #D2E3FC;\n",
              "  }\n",
              "\n",
              "  [theme=dark] .colab-df-quickchart:hover {\n",
              "    background-color: #434B5C;\n",
              "    box-shadow: 0px 1px 3px 1px rgba(0, 0, 0, 0.15);\n",
              "    filter: drop-shadow(0px 1px 2px rgba(0, 0, 0, 0.3));\n",
              "    fill: #FFFFFF;\n",
              "  }\n",
              "</style>\n",
              "\n",
              "    <script>\n",
              "      async function quickchart(key) {\n",
              "        const containerElement = document.querySelector('#' + key);\n",
              "        const charts = await google.colab.kernel.invokeFunction(\n",
              "            'suggestCharts', [key], {});\n",
              "      }\n",
              "    </script>\n",
              "\n",
              "      <script>\n",
              "\n",
              "function displayQuickchartButton(domScope) {\n",
              "  let quickchartButtonEl =\n",
              "    domScope.querySelector('#df-d08b068a-8793-40c6-b185-c4d26dc4eab0 button.colab-df-quickchart');\n",
              "  quickchartButtonEl.style.display =\n",
              "    google.colab.kernel.accessAllowed ? 'block' : 'none';\n",
              "}\n",
              "\n",
              "        displayQuickchartButton(document);\n",
              "      </script>\n",
              "      <style>\n",
              "    .colab-df-container {\n",
              "      display:flex;\n",
              "      flex-wrap:wrap;\n",
              "      gap: 12px;\n",
              "    }\n",
              "\n",
              "    .colab-df-convert {\n",
              "      background-color: #E8F0FE;\n",
              "      border: none;\n",
              "      border-radius: 50%;\n",
              "      cursor: pointer;\n",
              "      display: none;\n",
              "      fill: #1967D2;\n",
              "      height: 32px;\n",
              "      padding: 0 0 0 0;\n",
              "      width: 32px;\n",
              "    }\n",
              "\n",
              "    .colab-df-convert:hover {\n",
              "      background-color: #E2EBFA;\n",
              "      box-shadow: 0px 1px 2px rgba(60, 64, 67, 0.3), 0px 1px 3px 1px rgba(60, 64, 67, 0.15);\n",
              "      fill: #174EA6;\n",
              "    }\n",
              "\n",
              "    [theme=dark] .colab-df-convert {\n",
              "      background-color: #3B4455;\n",
              "      fill: #D2E3FC;\n",
              "    }\n",
              "\n",
              "    [theme=dark] .colab-df-convert:hover {\n",
              "      background-color: #434B5C;\n",
              "      box-shadow: 0px 1px 3px 1px rgba(0, 0, 0, 0.15);\n",
              "      filter: drop-shadow(0px 1px 2px rgba(0, 0, 0, 0.3));\n",
              "      fill: #FFFFFF;\n",
              "    }\n",
              "  </style>\n",
              "\n",
              "      <script>\n",
              "        const buttonEl =\n",
              "          document.querySelector('#df-bfebc3ff-8ee4-4992-a7cd-9827e0e491c1 button.colab-df-convert');\n",
              "        buttonEl.style.display =\n",
              "          google.colab.kernel.accessAllowed ? 'block' : 'none';\n",
              "\n",
              "        async function convertToInteractive(key) {\n",
              "          const element = document.querySelector('#df-bfebc3ff-8ee4-4992-a7cd-9827e0e491c1');\n",
              "          const dataTable =\n",
              "            await google.colab.kernel.invokeFunction('convertToInteractive',\n",
              "                                                     [key], {});\n",
              "          if (!dataTable) return;\n",
              "\n",
              "          const docLinkHtml = 'Like what you see? Visit the ' +\n",
              "            '<a target=\"_blank\" href=https://colab.research.google.com/notebooks/data_table.ipynb>data table notebook</a>'\n",
              "            + ' to learn more about interactive tables.';\n",
              "          element.innerHTML = '';\n",
              "          dataTable['output_type'] = 'display_data';\n",
              "          await google.colab.output.renderOutput(dataTable, element);\n",
              "          const docLink = document.createElement('div');\n",
              "          docLink.innerHTML = docLinkHtml;\n",
              "          element.appendChild(docLink);\n",
              "        }\n",
              "      </script>\n",
              "    </div>\n",
              "  </div>\n"
            ]
          },
          "metadata": {},
          "execution_count": 157
        }
      ]
    },
    {
      "cell_type": "code",
      "source": [
        "df.replace('-', np.nan, inplace=True)"
      ],
      "metadata": {
        "id": "0vNscHrmWoCn"
      },
      "execution_count": null,
      "outputs": []
    },
    {
      "cell_type": "code",
      "source": [
        "df = df.dropna()"
      ],
      "metadata": {
        "id": "BhVaN_eIe7iM"
      },
      "execution_count": null,
      "outputs": []
    },
    {
      "cell_type": "code",
      "source": [
        "sns.histplot(df['Bath(s)'])\n",
        "plt.show()"
      ],
      "metadata": {
        "colab": {
          "base_uri": "https://localhost:8080/",
          "height": 449
        },
        "id": "bB7-lb1hXXaN",
        "outputId": "6f12039f-b2df-4e9c-c111-b3438f54c8c3"
      },
      "execution_count": null,
      "outputs": [
        {
          "output_type": "display_data",
          "data": {
            "text/plain": [
              "<Figure size 640x480 with 1 Axes>"
            ],
            "image/png": "[encoded data removed]"
          },
          "metadata": {}
        }
      ]
    },
    {
      "cell_type": "code",
      "source": [
        "sns.histplot(df['Area'])\n",
        "plt.show()"
      ],
      "metadata": {
        "colab": {
          "base_uri": "https://localhost:8080/",
          "height": 449
        },
        "id": "Cv3JvdaWZoFM",
        "outputId": "28352fee-e1af-433e-9a7c-d1bf95148f86"
      },
      "execution_count": null,
      "outputs": [
        {
          "output_type": "display_data",
          "data": {
            "text/plain": [
              "<Figure size 640x480 with 1 Axes>"
            ],
            "image/png": "[encoded data removed]"
          },
          "metadata": {}
        }
      ]
    },
    {
      "cell_type": "code",
      "source": [
        "sns.histplot(df['Bedroom(s)'])\n",
        "plt.show()"
      ],
      "metadata": {
        "colab": {
          "base_uri": "https://localhost:8080/",
          "height": 449
        },
        "id": "VE_kcbjUair0",
        "outputId": "f2c22d07-aecd-4ce0-877a-42615a7f340f"
      },
      "execution_count": null,
      "outputs": [
        {
          "output_type": "display_data",
          "data": {
            "text/plain": [
              "<Figure size 640x480 with 1 Axes>"
            ],
            "image/png": "[encoded data removed]"
          },
          "metadata": {}
        }
      ]
    },
    {
      "cell_type": "code",
      "source": [
        "df['Bath(s)']=df['Bath(s)'].astype(int)"
      ],
      "metadata": {
        "id": "Ts-1QEadhj1P"
      },
      "execution_count": null,
      "outputs": []
    },
    {
      "cell_type": "code",
      "source": [
        "df['Bedroom(s)']=df['Bedroom(s)'].astype(int)"
      ],
      "metadata": {
        "id": "I_6YEskKhvN6"
      },
      "execution_count": null,
      "outputs": []
    },
    {
      "cell_type": "code",
      "source": [
        "df['Bath(s)'].unique()"
      ],
      "metadata": {
        "colab": {
          "base_uri": "https://localhost:8080/"
        },
        "id": "x3H5ZaX2guW5",
        "outputId": "0f814d2d-0cb2-4147-b8b1-967f74a32f18"
      },
      "execution_count": null,
      "outputs": [
        {
          "output_type": "execute_result",
          "data": {
            "text/plain": [
              "array([4, 3, 5, 6, 2, 1, 7, 8])"
            ]
          },
          "metadata": {},
          "execution_count": 170
        }
      ]
    },
    {
      "cell_type": "code",
      "source": [
        "df['Bedroom(s)'].unique()"
      ],
      "metadata": {
        "colab": {
          "base_uri": "https://localhost:8080/"
        },
        "id": "t2cj8fu1h595",
        "outputId": "7f05bc64-8a59-4c82-ddca-83e69ae35a33"
      },
      "execution_count": null,
      "outputs": [
        {
          "output_type": "execute_result",
          "data": {
            "text/plain": [
              "array([ 4,  3,  5,  6,  2,  1,  7, 10,  9,  8, 11])"
            ]
          },
          "metadata": {},
          "execution_count": 169
        }
      ]
    },
    {
      "cell_type": "code",
      "source": [
        "def convert_price(price_str):\n",
        "    if isinstance(price_str, str):\n",
        "        price_str = price_str.replace('PKR', '').strip()\n",
        "\n",
        "        if 'Arab' in price_str:\n",
        "            price = float(price_str.replace('Arab', '').strip()) * 1000000000\n",
        "        elif 'Crore' in price_str:\n",
        "            price = float(price_str.replace('Crore', '').strip()) * 10000000\n",
        "        elif 'Lakh' in price_str:\n",
        "            price = float(price_str.replace('Lakh', '').strip()) * 100000\n",
        "        else:\n",
        "            price = float(price_str)\n",
        "\n",
        "        return int(price)\n",
        "    else:\n",
        "        return pd.NA"
      ],
      "metadata": {
        "id": "SMj5mUuCioIE"
      },
      "execution_count": null,
      "outputs": []
    },
    {
      "cell_type": "code",
      "source": [
        "# Apply the function to the 'Price' column\n",
        "df['Price'] = df['Price'].apply(convert_price)\n",
        "\n",
        "# Convert the 'Price' column to int data type\n",
        "df['Price'] = df['Price'].astype('Int64')"
      ],
      "metadata": {
        "id": "6BqRqoxQisJB"
      },
      "execution_count": null,
      "outputs": []
    },
    {
      "cell_type": "code",
      "source": [
        "df"
      ],
      "metadata": {
        "colab": {
          "base_uri": "https://localhost:8080/",
          "height": 679
        },
        "id": "RZVH99yLi5J_",
        "outputId": "390ebd34-5e3a-42a4-f5c0-1bf82f82a6f3"
      },
      "execution_count": null,
      "outputs": [
        {
          "output_type": "execute_result",
          "data": {
            "text/plain": [
              "            City   Type     Price  \\\n",
              "0         Lahore  House  12500000   \n",
              "1         Lahore  House   8100000   \n",
              "2         Lahore  House  13500000   \n",
              "3         Lahore  House  42000000   \n",
              "4         Lahore  House  31000000   \n",
              "...          ...    ...       ...   \n",
              "1237  Rawalpindi  House   4000000   \n",
              "1241  Rawalpindi  House  37500000   \n",
              "1247  Rawalpindi  House  41500000   \n",
              "1248  Rawalpindi  House  18500000   \n",
              "1249  Rawalpindi  House  41500000   \n",
              "\n",
              "                                         Location  Bath(s)       Area  \\\n",
              "0     Central Park Housing Scheme, Lahore, Punjab        4  3.5 Marla   \n",
              "1                Thokar Niaz Baig, Lahore, Punjab        3    3 Marla   \n",
              "2                  Park View City, Lahore, Punjab        4    5 Marla   \n",
              "3                     Bahria Town, Lahore, Punjab        5   10 Marla   \n",
              "4                     Bahria Town, Lahore, Punjab        5    8 Marla   \n",
              "...                                           ...      ...        ...   \n",
              "1237        Islamabad Highway, Rawalpindi, Punjab        1    2 Marla   \n",
              "1241  Airport Housing Society, Rawalpindi, Punjab        6   10 Marla   \n",
              "1247   Bahria Town Rawalpindi, Rawalpindi, Punjab        6   10 Marla   \n",
              "1248   Bahria Town Rawalpindi, Rawalpindi, Punjab        4    5 Marla   \n",
              "1249   Bahria Town Rawalpindi, Rawalpindi, Punjab        6   10 Marla   \n",
              "\n",
              "       Purpose  Bedroom(s)  \n",
              "0     For Sale           4  \n",
              "1     For Sale           3  \n",
              "2     For Sale           4  \n",
              "3     For Sale           5  \n",
              "4     For Sale           5  \n",
              "...        ...         ...  \n",
              "1237  For Sale           1  \n",
              "1241  For Sale           6  \n",
              "1247  For Sale           5  \n",
              "1248  For Sale           3  \n",
              "1249  For Sale           5  \n",
              "\n",
              "[1109 rows x 8 columns]"
            ],
            "text/html": [
              "\n",
              "\n",
              "  <div id=\"df-14d727ad-fcf2-4ac9-a27b-5d660ef0c249\">\n",
              "    <div class=\"colab-df-container\">\n",
              "      <div>\n",
              "<style scoped>\n",
              "    .dataframe tbody tr th:only-of-type {\n",
              "        vertical-align: middle;\n",
              "    }\n",
              "\n",
              "    .dataframe tbody tr th {\n",
              "        vertical-align: top;\n",
              "    }\n",
              "\n",
              "    .dataframe thead th {\n",
              "        text-align: right;\n",
              "    }\n",
              "</style>\n",
              "<table border=\"1\" class=\"dataframe\">\n",
              "  <thead>\n",
              "    <tr style=\"text-align: right;\">\n",
              "      <th></th>\n",
              "      <th>City</th>\n",
              "      <th>Type</th>\n",
              "      <th>Price</th>\n",
              "      <th>Location</th>\n",
              "      <th>Bath(s)</th>\n",
              "      <th>Area</th>\n",
              "      <th>Purpose</th>\n",
              "      <th>Bedroom(s)</th>\n",
              "    </tr>\n",
              "  </thead>\n",
              "  <tbody>\n",
              "    <tr>\n",
              "      <th>0</th>\n",
              "      <td>Lahore</td>\n",
              "      <td>House</td>\n",
              "      <td>12500000</td>\n",
              "      <td>Central Park Housing Scheme, Lahore, Punjab</td>\n",
              "      <td>4</td>\n",
              "      <td>3.5 Marla</td>\n",
              "      <td>For Sale</td>\n",
              "      <td>4</td>\n",
              "    </tr>\n",
              "    <tr>\n",
              "      <th>1</th>\n",
              "      <td>Lahore</td>\n",
              "      <td>House</td>\n",
              "      <td>8100000</td>\n",
              "      <td>Thokar Niaz Baig, Lahore, Punjab</td>\n",
              "      <td>3</td>\n",
              "      <td>3 Marla</td>\n",
              "      <td>For Sale</td>\n",
              "      <td>3</td>\n",
              "    </tr>\n",
              "    <tr>\n",
              "      <th>2</th>\n",
              "      <td>Lahore</td>\n",
              "      <td>House</td>\n",
              "      <td>13500000</td>\n",
              "      <td>Park View City, Lahore, Punjab</td>\n",
              "      <td>4</td>\n",
              "      <td>5 Marla</td>\n",
              "      <td>For Sale</td>\n",
              "      <td>4</td>\n",
              "    </tr>\n",
              "    <tr>\n",
              "      <th>3</th>\n",
              "      <td>Lahore</td>\n",
              "      <td>House</td>\n",
              "      <td>42000000</td>\n",
              "      <td>Bahria Town, Lahore, Punjab</td>\n",
              "      <td>5</td>\n",
              "      <td>10 Marla</td>\n",
              "      <td>For Sale</td>\n",
              "      <td>5</td>\n",
              "    </tr>\n",
              "    <tr>\n",
              "      <th>4</th>\n",
              "      <td>Lahore</td>\n",
              "      <td>House</td>\n",
              "      <td>31000000</td>\n",
              "      <td>Bahria Town, Lahore, Punjab</td>\n",
              "      <td>5</td>\n",
              "      <td>8 Marla</td>\n",
              "      <td>For Sale</td>\n",
              "      <td>5</td>\n",
              "    </tr>\n",
              "    <tr>\n",
              "      <th>...</th>\n",
              "      <td>...</td>\n",
              "      <td>...</td>\n",
              "      <td>...</td>\n",
              "      <td>...</td>\n",
              "      <td>...</td>\n",
              "      <td>...</td>\n",
              "      <td>...</td>\n",
              "      <td>...</td>\n",
              "    </tr>\n",
              "    <tr>\n",
              "      <th>1237</th>\n",
              "      <td>Rawalpindi</td>\n",
              "      <td>House</td>\n",
              "      <td>4000000</td>\n",
              "      <td>Islamabad Highway, Rawalpindi, Punjab</td>\n",
              "      <td>1</td>\n",
              "      <td>2 Marla</td>\n",
              "      <td>For Sale</td>\n",
              "      <td>1</td>\n",
              "    </tr>\n",
              "    <tr>\n",
              "      <th>1241</th>\n",
              "      <td>Rawalpindi</td>\n",
              "      <td>House</td>\n",
              "      <td>37500000</td>\n",
              "      <td>Airport Housing Society, Rawalpindi, Punjab</td>\n",
              "      <td>6</td>\n",
              "      <td>10 Marla</td>\n",
              "      <td>For Sale</td>\n",
              "      <td>6</td>\n",
              "    </tr>\n",
              "    <tr>\n",
              "      <th>1247</th>\n",
              "      <td>Rawalpindi</td>\n",
              "      <td>House</td>\n",
              "      <td>41500000</td>\n",
              "      <td>Bahria Town Rawalpindi, Rawalpindi, Punjab</td>\n",
              "      <td>6</td>\n",
              "      <td>10 Marla</td>\n",
              "      <td>For Sale</td>\n",
              "      <td>5</td>\n",
              "    </tr>\n",
              "    <tr>\n",
              "      <th>1248</th>\n",
              "      <td>Rawalpindi</td>\n",
              "      <td>House</td>\n",
              "      <td>18500000</td>\n",
              "      <td>Bahria Town Rawalpindi, Rawalpindi, Punjab</td>\n",
              "      <td>4</td>\n",
              "      <td>5 Marla</td>\n",
              "      <td>For Sale</td>\n",
              "      <td>3</td>\n",
              "    </tr>\n",
              "    <tr>\n",
              "      <th>1249</th>\n",
              "      <td>Rawalpindi</td>\n",
              "      <td>House</td>\n",
              "      <td>41500000</td>\n",
              "      <td>Bahria Town Rawalpindi, Rawalpindi, Punjab</td>\n",
              "      <td>6</td>\n",
              "      <td>10 Marla</td>\n",
              "      <td>For Sale</td>\n",
              "      <td>5</td>\n",
              "    </tr>\n",
              "  </tbody>\n",
              "</table>\n",
              "<p>1109 rows × 8 columns</p>\n",
              "</div>\n",
              "      <button class=\"colab-df-convert\" onclick=\"convertToInteractive('df-14d727ad-fcf2-4ac9-a27b-5d660ef0c249')\"\n",
              "              title=\"Convert this dataframe to an interactive table.\"\n",
              "              style=\"display:none;\">\n",
              "\n",
              "  <svg xmlns=\"http://www.w3.org/2000/svg\" height=\"24px\"viewBox=\"0 0 24 24\"\n",
              "       width=\"24px\">\n",
              "    <path d=\"M0 0h24v24H0V0z\" fill=\"none\"/>\n",
              "    <path d=\"M18.56 5.44l.94 2.06.94-2.06 2.06-.94-2.06-.94-.94-2.06-.94 2.06-2.06.94zm-11 1L8.5 8.5l.94-2.06 2.06-.94-2.06-.94L8.5 2.5l-.94 2.06-2.06.94zm10 10l.94 2.06.94-2.06 2.06-.94-2.06-.94-.94-2.06-.94 2.06-2.06.94z\"/><path d=\"M17.41 7.96l-1.37-1.37c-.4-.4-.92-.59-1.43-.59-.52 0-1.04.2-1.43.59L10.3 9.45l-7.72 7.72c-.78.78-.78 2.05 0 2.83L4 21.41c.39.39.9.59 1.41.59.51 0 1.02-.2 1.41-.59l7.78-7.78 2.81-2.81c.8-.78.8-2.07 0-2.86zM5.41 20L4 18.59l7.72-7.72 1.47 1.35L5.41 20z\"/>\n",
              "  </svg>\n",
              "      </button>\n",
              "\n",
              "\n",
              "\n",
              "    <div id=\"df-2ce699ec-d34d-426e-8175-e2ee0f957a4c\">\n",
              "      <button class=\"colab-df-quickchart\" onclick=\"quickchart('df-2ce699ec-d34d-426e-8175-e2ee0f957a4c')\"\n",
              "              title=\"Suggest charts.\"\n",
              "              style=\"display:none;\">\n",
              "\n",
              "<svg xmlns=\"http://www.w3.org/2000/svg\" height=\"24px\"viewBox=\"0 0 24 24\"\n",
              "     width=\"24px\">\n",
              "    <g>\n",
              "        <path d=\"M19 3H5c-1.1 0-2 .9-2 2v14c0 1.1.9 2 2 2h14c1.1 0 2-.9 2-2V5c0-1.1-.9-2-2-2zM9 17H7v-7h2v7zm4 0h-2V7h2v10zm4 0h-2v-4h2v4z\"/>\n",
              "    </g>\n",
              "</svg>\n",
              "      </button>\n",
              "    </div>\n",
              "\n",
              "<style>\n",
              "  .colab-df-quickchart {\n",
              "    background-color: #E8F0FE;\n",
              "    border: none;\n",
              "    border-radius: 50%;\n",
              "    cursor: pointer;\n",
              "    display: none;\n",
              "    fill: #1967D2;\n",
              "    height: 32px;\n",
              "    padding: 0 0 0 0;\n",
              "    width: 32px;\n",
              "  }\n",
              "\n",
              "  .colab-df-quickchart:hover {\n",
              "    background-color: #E2EBFA;\n",
              "    box-shadow: 0px 1px 2px rgba(60, 64, 67, 0.3), 0px 1px 3px 1px rgba(60, 64, 67, 0.15);\n",
              "    fill: #174EA6;\n",
              "  }\n",
              "\n",
              "  [theme=dark] .colab-df-quickchart {\n",
              "    background-color: #3B4455;\n",
              "    fill: #D2E3FC;\n",
              "  }\n",
              "\n",
              "  [theme=dark] .colab-df-quickchart:hover {\n",
              "    background-color: #434B5C;\n",
              "    box-shadow: 0px 1px 3px 1px rgba(0, 0, 0, 0.15);\n",
              "    filter: drop-shadow(0px 1px 2px rgba(0, 0, 0, 0.3));\n",
              "    fill: #FFFFFF;\n",
              "  }\n",
              "</style>\n",
              "\n",
              "    <script>\n",
              "      async function quickchart(key) {\n",
              "        const containerElement = document.querySelector('#' + key);\n",
              "        const charts = await google.colab.kernel.invokeFunction(\n",
              "            'suggestCharts', [key], {});\n",
              "      }\n",
              "    </script>\n",
              "\n",
              "      <script>\n",
              "\n",
              "function displayQuickchartButton(domScope) {\n",
              "  let quickchartButtonEl =\n",
              "    domScope.querySelector('#df-2ce699ec-d34d-426e-8175-e2ee0f957a4c button.colab-df-quickchart');\n",
              "  quickchartButtonEl.style.display =\n",
              "    google.colab.kernel.accessAllowed ? 'block' : 'none';\n",
              "}\n",
              "\n",
              "        displayQuickchartButton(document);\n",
              "      </script>\n",
              "      <style>\n",
              "    .colab-df-container {\n",
              "      display:flex;\n",
              "      flex-wrap:wrap;\n",
              "      gap: 12px;\n",
              "    }\n",
              "\n",
              "    .colab-df-convert {\n",
              "      background-color: #E8F0FE;\n",
              "      border: none;\n",
              "      border-radius: 50%;\n",
              "      cursor: pointer;\n",
              "      display: none;\n",
              "      fill: #1967D2;\n",
              "      height: 32px;\n",
              "      padding: 0 0 0 0;\n",
              "      width: 32px;\n",
              "    }\n",
              "\n",
              "    .colab-df-convert:hover {\n",
              "      background-color: #E2EBFA;\n",
              "      box-shadow: 0px 1px 2px rgba(60, 64, 67, 0.3), 0px 1px 3px 1px rgba(60, 64, 67, 0.15);\n",
              "      fill: #174EA6;\n",
              "    }\n",
              "\n",
              "    [theme=dark] .colab-df-convert {\n",
              "      background-color: #3B4455;\n",
              "      fill: #D2E3FC;\n",
              "    }\n",
              "\n",
              "    [theme=dark] .colab-df-convert:hover {\n",
              "      background-color: #434B5C;\n",
              "      box-shadow: 0px 1px 3px 1px rgba(0, 0, 0, 0.15);\n",
              "      filter: drop-shadow(0px 1px 2px rgba(0, 0, 0, 0.3));\n",
              "      fill: #FFFFFF;\n",
              "    }\n",
              "  </style>\n",
              "\n",
              "      <script>\n",
              "        const buttonEl =\n",
              "          document.querySelector('#df-14d727ad-fcf2-4ac9-a27b-5d660ef0c249 button.colab-df-convert');\n",
              "        buttonEl.style.display =\n",
              "          google.colab.kernel.accessAllowed ? 'block' : 'none';\n",
              "\n",
              "        async function convertToInteractive(key) {\n",
              "          const element = document.querySelector('#df-14d727ad-fcf2-4ac9-a27b-5d660ef0c249');\n",
              "          const dataTable =\n",
              "            await google.colab.kernel.invokeFunction('convertToInteractive',\n",
              "                                                     [key], {});\n",
              "          if (!dataTable) return;\n",
              "\n",
              "          const docLinkHtml = 'Like what you see? Visit the ' +\n",
              "            '<a target=\"_blank\" href=https://colab.research.google.com/notebooks/data_table.ipynb>data table notebook</a>'\n",
              "            + ' to learn more about interactive tables.';\n",
              "          element.innerHTML = '';\n",
              "          dataTable['output_type'] = 'display_data';\n",
              "          await google.colab.output.renderOutput(dataTable, element);\n",
              "          const docLink = document.createElement('div');\n",
              "          docLink.innerHTML = docLinkHtml;\n",
              "          element.appendChild(docLink);\n",
              "        }\n",
              "      </script>\n",
              "    </div>\n",
              "  </div>\n"
            ]
          },
          "metadata": {},
          "execution_count": 175
        }
      ]
    },
    {
      "cell_type": "code",
      "source": [
        "df.columns"
      ],
      "metadata": {
        "colab": {
          "base_uri": "https://localhost:8080/"
        },
        "id": "rNvYTtQkjEaz",
        "outputId": "9036e4c4-67ab-4c8b-ffc4-f1a1416ff534"
      },
      "execution_count": null,
      "outputs": [
        {
          "output_type": "execute_result",
          "data": {
            "text/plain": [
              "Index(['City', 'Type', 'Price', 'Location', 'Bath(s)', 'Area', 'Purpose',\n",
              "       'Bedroom(s)'],\n",
              "      dtype='object')"
            ]
          },
          "metadata": {},
          "execution_count": 176
        }
      ]
    },
    {
      "cell_type": "code",
      "source": [
        "df.describe()"
      ],
      "metadata": {
        "colab": {
          "base_uri": "https://localhost:8080/",
          "height": 300
        },
        "id": "-rieb7kmjSVK",
        "outputId": "3f1ca058-ed1d-4d2c-e1b2-28c382f6766c"
      },
      "execution_count": null,
      "outputs": [
        {
          "output_type": "execute_result",
          "data": {
            "text/plain": [
              "                 Price      Bath(s)   Bedroom(s)\n",
              "count           1109.0  1109.000000  1109.000000\n",
              "mean   54605082.951307     4.812444     4.431921\n",
              "std    88881605.255592     1.405568     1.469335\n",
              "min           750000.0     1.000000     1.000000\n",
              "25%         18000000.0     4.000000     3.000000\n",
              "50%         33500000.0     5.000000     4.000000\n",
              "75%         60000000.0     6.000000     5.000000\n",
              "max       1550000000.0     8.000000    11.000000"
            ],
            "text/html": [
              "\n",
              "\n",
              "  <div id=\"df-8abe21ce-1021-4da2-af3d-2655c233435a\">\n",
              "    <div class=\"colab-df-container\">\n",
              "      <div>\n",
              "<style scoped>\n",
              "    .dataframe tbody tr th:only-of-type {\n",
              "        vertical-align: middle;\n",
              "    }\n",
              "\n",
              "    .dataframe tbody tr th {\n",
              "        vertical-align: top;\n",
              "    }\n",
              "\n",
              "    .dataframe thead th {\n",
              "        text-align: right;\n",
              "    }\n",
              "</style>\n",
              "<table border=\"1\" class=\"dataframe\">\n",
              "  <thead>\n",
              "    <tr style=\"text-align: right;\">\n",
              "      <th></th>\n",
              "      <th>Price</th>\n",
              "      <th>Bath(s)</th>\n",
              "      <th>Bedroom(s)</th>\n",
              "    </tr>\n",
              "  </thead>\n",
              "  <tbody>\n",
              "    <tr>\n",
              "      <th>count</th>\n",
              "      <td>1109.0</td>\n",
              "      <td>1109.000000</td>\n",
              "      <td>1109.000000</td>\n",
              "    </tr>\n",
              "    <tr>\n",
              "      <th>mean</th>\n",
              "      <td>54605082.951307</td>\n",
              "      <td>4.812444</td>\n",
              "      <td>4.431921</td>\n",
              "    </tr>\n",
              "    <tr>\n",
              "      <th>std</th>\n",
              "      <td>88881605.255592</td>\n",
              "      <td>1.405568</td>\n",
              "      <td>1.469335</td>\n",
              "    </tr>\n",
              "    <tr>\n",
              "      <th>min</th>\n",
              "      <td>750000.0</td>\n",
              "      <td>1.000000</td>\n",
              "      <td>1.000000</td>\n",
              "    </tr>\n",
              "    <tr>\n",
              "      <th>25%</th>\n",
              "      <td>18000000.0</td>\n",
              "      <td>4.000000</td>\n",
              "      <td>3.000000</td>\n",
              "    </tr>\n",
              "    <tr>\n",
              "      <th>50%</th>\n",
              "      <td>33500000.0</td>\n",
              "      <td>5.000000</td>\n",
              "      <td>4.000000</td>\n",
              "    </tr>\n",
              "    <tr>\n",
              "      <th>75%</th>\n",
              "      <td>60000000.0</td>\n",
              "      <td>6.000000</td>\n",
              "      <td>5.000000</td>\n",
              "    </tr>\n",
              "    <tr>\n",
              "      <th>max</th>\n",
              "      <td>1550000000.0</td>\n",
              "      <td>8.000000</td>\n",
              "      <td>11.000000</td>\n",
              "    </tr>\n",
              "  </tbody>\n",
              "</table>\n",
              "</div>\n",
              "      <button class=\"colab-df-convert\" onclick=\"convertToInteractive('df-8abe21ce-1021-4da2-af3d-2655c233435a')\"\n",
              "              title=\"Convert this dataframe to an interactive table.\"\n",
              "              style=\"display:none;\">\n",
              "\n",
              "  <svg xmlns=\"http://www.w3.org/2000/svg\" height=\"24px\"viewBox=\"0 0 24 24\"\n",
              "       width=\"24px\">\n",
              "    <path d=\"M0 0h24v24H0V0z\" fill=\"none\"/>\n",
              "    <path d=\"M18.56 5.44l.94 2.06.94-2.06 2.06-.94-2.06-.94-.94-2.06-.94 2.06-2.06.94zm-11 1L8.5 8.5l.94-2.06 2.06-.94-2.06-.94L8.5 2.5l-.94 2.06-2.06.94zm10 10l.94 2.06.94-2.06 2.06-.94-2.06-.94-.94-2.06-.94 2.06-2.06.94z\"/><path d=\"M17.41 7.96l-1.37-1.37c-.4-.4-.92-.59-1.43-.59-.52 0-1.04.2-1.43.59L10.3 9.45l-7.72 7.72c-.78.78-.78 2.05 0 2.83L4 21.41c.39.39.9.59 1.41.59.51 0 1.02-.2 1.41-.59l7.78-7.78 2.81-2.81c.8-.78.8-2.07 0-2.86zM5.41 20L4 18.59l7.72-7.72 1.47 1.35L5.41 20z\"/>\n",
              "  </svg>\n",
              "      </button>\n",
              "\n",
              "\n",
              "\n",
              "    <div id=\"df-579564bf-bb2a-4baa-8b8a-e9175f013318\">\n",
              "      <button class=\"colab-df-quickchart\" onclick=\"quickchart('df-579564bf-bb2a-4baa-8b8a-e9175f013318')\"\n",
              "              title=\"Suggest charts.\"\n",
              "              style=\"display:none;\">\n",
              "\n",
              "<svg xmlns=\"http://www.w3.org/2000/svg\" height=\"24px\"viewBox=\"0 0 24 24\"\n",
              "     width=\"24px\">\n",
              "    <g>\n",
              "        <path d=\"M19 3H5c-1.1 0-2 .9-2 2v14c0 1.1.9 2 2 2h14c1.1 0 2-.9 2-2V5c0-1.1-.9-2-2-2zM9 17H7v-7h2v7zm4 0h-2V7h2v10zm4 0h-2v-4h2v4z\"/>\n",
              "    </g>\n",
              "</svg>\n",
              "      </button>\n",
              "    </div>\n",
              "\n",
              "<style>\n",
              "  .colab-df-quickchart {\n",
              "    background-color: #E8F0FE;\n",
              "    border: none;\n",
              "    border-radius: 50%;\n",
              "    cursor: pointer;\n",
              "    display: none;\n",
              "    fill: #1967D2;\n",
              "    height: 32px;\n",
              "    padding: 0 0 0 0;\n",
              "    width: 32px;\n",
              "  }\n",
              "\n",
              "  .colab-df-quickchart:hover {\n",
              "    background-color: #E2EBFA;\n",
              "    box-shadow: 0px 1px 2px rgba(60, 64, 67, 0.3), 0px 1px 3px 1px rgba(60, 64, 67, 0.15);\n",
              "    fill: #174EA6;\n",
              "  }\n",
              "\n",
              "  [theme=dark] .colab-df-quickchart {\n",
              "    background-color: #3B4455;\n",
              "    fill: #D2E3FC;\n",
              "  }\n",
              "\n",
              "  [theme=dark] .colab-df-quickchart:hover {\n",
              "    background-color: #434B5C;\n",
              "    box-shadow: 0px 1px 3px 1px rgba(0, 0, 0, 0.15);\n",
              "    filter: drop-shadow(0px 1px 2px rgba(0, 0, 0, 0.3));\n",
              "    fill: #FFFFFF;\n",
              "  }\n",
              "</style>\n",
              "\n",
              "    <script>\n",
              "      async function quickchart(key) {\n",
              "        const containerElement = document.querySelector('#' + key);\n",
              "        const charts = await google.colab.kernel.invokeFunction(\n",
              "            'suggestCharts', [key], {});\n",
              "      }\n",
              "    </script>\n",
              "\n",
              "      <script>\n",
              "\n",
              "function displayQuickchartButton(domScope) {\n",
              "  let quickchartButtonEl =\n",
              "    domScope.querySelector('#df-579564bf-bb2a-4baa-8b8a-e9175f013318 button.colab-df-quickchart');\n",
              "  quickchartButtonEl.style.display =\n",
              "    google.colab.kernel.accessAllowed ? 'block' : 'none';\n",
              "}\n",
              "\n",
              "        displayQuickchartButton(document);\n",
              "      </script>\n",
              "      <style>\n",
              "    .colab-df-container {\n",
              "      display:flex;\n",
              "      flex-wrap:wrap;\n",
              "      gap: 12px;\n",
              "    }\n",
              "\n",
              "    .colab-df-convert {\n",
              "      background-color: #E8F0FE;\n",
              "      border: none;\n",
              "      border-radius: 50%;\n",
              "      cursor: pointer;\n",
              "      display: none;\n",
              "      fill: #1967D2;\n",
              "      height: 32px;\n",
              "      padding: 0 0 0 0;\n",
              "      width: 32px;\n",
              "    }\n",
              "\n",
              "    .colab-df-convert:hover {\n",
              "      background-color: #E2EBFA;\n",
              "      box-shadow: 0px 1px 2px rgba(60, 64, 67, 0.3), 0px 1px 3px 1px rgba(60, 64, 67, 0.15);\n",
              "      fill: #174EA6;\n",
              "    }\n",
              "\n",
              "    [theme=dark] .colab-df-convert {\n",
              "      background-color: #3B4455;\n",
              "      fill: #D2E3FC;\n",
              "    }\n",
              "\n",
              "    [theme=dark] .colab-df-convert:hover {\n",
              "      background-color: #434B5C;\n",
              "      box-shadow: 0px 1px 3px 1px rgba(0, 0, 0, 0.15);\n",
              "      filter: drop-shadow(0px 1px 2px rgba(0, 0, 0, 0.3));\n",
              "      fill: #FFFFFF;\n",
              "    }\n",
              "  </style>\n",
              "\n",
              "      <script>\n",
              "        const buttonEl =\n",
              "          document.querySelector('#df-8abe21ce-1021-4da2-af3d-2655c233435a button.colab-df-convert');\n",
              "        buttonEl.style.display =\n",
              "          google.colab.kernel.accessAllowed ? 'block' : 'none';\n",
              "\n",
              "        async function convertToInteractive(key) {\n",
              "          const element = document.querySelector('#df-8abe21ce-1021-4da2-af3d-2655c233435a');\n",
              "          const dataTable =\n",
              "            await google.colab.kernel.invokeFunction('convertToInteractive',\n",
              "                                                     [key], {});\n",
              "          if (!dataTable) return;\n",
              "\n",
              "          const docLinkHtml = 'Like what you see? Visit the ' +\n",
              "            '<a target=\"_blank\" href=https://colab.research.google.com/notebooks/data_table.ipynb>data table notebook</a>'\n",
              "            + ' to learn more about interactive tables.';\n",
              "          element.innerHTML = '';\n",
              "          dataTable['output_type'] = 'display_data';\n",
              "          await google.colab.output.renderOutput(dataTable, element);\n",
              "          const docLink = document.createElement('div');\n",
              "          docLink.innerHTML = docLinkHtml;\n",
              "          element.appendChild(docLink);\n",
              "        }\n",
              "      </script>\n",
              "    </div>\n",
              "  </div>\n"
            ]
          },
          "metadata": {},
          "execution_count": 177
        }
      ]
    },
    {
      "cell_type": "code",
      "source": [
        "city_counts = df['City'].value_counts()\n",
        "# Visualize count of property types\n",
        "plt.figure(figsize=(10, 6))\n",
        "sns.countplot(data=df, x='Type')\n",
        "plt.title('Count of Property Types')\n",
        "plt.xlabel('Property Type')\n",
        "plt.ylabel('Count')\n",
        "plt.xticks(rotation=45)\n",
        "plt.show()"
      ],
      "metadata": {
        "colab": {
          "base_uri": "https://localhost:8080/",
          "height": 627
        },
        "id": "DFB8xij_jaXi",
        "outputId": "27f2a397-8c0f-4fc5-a1d3-a99c6ac62872"
      },
      "execution_count": null,
      "outputs": [
        {
          "output_type": "display_data",
          "data": {
            "text/plain": [
              "<Figure size 1000x600 with 1 Axes>"
            ],
            "image/png": "[encoded data removed]"
          },
          "metadata": {}
        }
      ]
    },
    {
      "cell_type": "code",
      "source": [
        "sns.barplot(x=city_counts.index,y=city_counts.values)\n",
        "plt.title(\"Number of Properties in Each City\")\n",
        "plt.ylabel(\"Number of Properties\")\n",
        "plt.show()"
      ],
      "metadata": {
        "colab": {
          "base_uri": "https://localhost:8080/",
          "height": 452
        },
        "id": "TYldwn74kf_O",
        "outputId": "5fa449d6-0d44-438e-f2a7-0403f7a58ca4"
      },
      "execution_count": null,
      "outputs": [
        {
          "output_type": "display_data",
          "data": {
            "text/plain": [
              "<Figure size 640x480 with 1 Axes>"
            ],
            "image/png": "[encoded data removed]"
          },
          "metadata": {}
        }
      ]
    },
    {
      "cell_type": "code",
      "source": [
        "# Visualize distribution of property prices\n",
        "plt.figure(figsize=(10, 6))\n",
        "sns.histplot(data=df, x='Price', bins=20)\n",
        "plt.title('Distribution of Property Prices')\n",
        "plt.xlabel('Price')\n",
        "plt.ylabel('Count')\n",
        "plt.show()"
      ],
      "metadata": {
        "colab": {
          "base_uri": "https://localhost:8080/",
          "height": 653
        },
        "id": "RiTxb7cGjrqW",
        "outputId": "10176965-884a-4ca4-b9be-afe886199780"
      },
      "execution_count": null,
      "outputs": [
        {
          "output_type": "stream",
          "name": "stderr",
          "text": [
            "/usr/local/lib/python3.10/dist-packages/seaborn/distributions.py:499: FutureWarning: In a future version, the Index constructor will not infer numeric dtypes when passed object-dtype sequences (matching Series behavior)\n",
            "  pd.Index(edges, name=\"edges\"),\n",
            "/usr/local/lib/python3.10/dist-packages/seaborn/distributions.py:500: FutureWarning: In a future version, the Index constructor will not infer numeric dtypes when passed object-dtype sequences (matching Series behavior)\n",
            "  pd.Index(widths, name=\"widths\"),\n"
          ]
        },
        {
          "output_type": "display_data",
          "data": {
            "text/plain": [
              "<Figure size 1000x600 with 1 Axes>"
            ],
            "image/png": "[encoded data removed]"
          },
          "metadata": {}
        }
      ]
    },
    {
      "cell_type": "code",
      "source": [
        "plt.figure(figsize=(10, 6))\n",
        "sns.scatterplot(data=df, x='Area', y='Price')\n",
        "plt.title('Price vs Area')\n",
        "plt.xlabel('Area')\n",
        "plt.ylabel('Price')\n",
        "plt.show()"
      ],
      "metadata": {
        "colab": {
          "base_uri": "https://localhost:8080/",
          "height": 564
        },
        "id": "eECA6t3ejzlV",
        "outputId": "27ee773f-4402-48e1-f803-a25d0f552b22"
      },
      "execution_count": null,
      "outputs": [
        {
          "output_type": "display_data",
          "data": {
            "text/plain": [
              "<Figure size 1000x600 with 1 Axes>"
            ],
            "image/png": "[encoded data removed]"
          },
          "metadata": {}
        }
      ]
    },
    {
      "cell_type": "code",
      "source": [
        "sns.pairplot(df[['Price', 'Area', 'Bedroom(s)', 'Bath(s)']])\n",
        "plt.show()"
      ],
      "metadata": {
        "colab": {
          "base_uri": "https://localhost:8080/",
          "height": 847
        },
        "id": "5l_IVPEQkDIp",
        "outputId": "6d854379-c4c6-4a14-cca2-d3a5b6901579"
      },
      "execution_count": null,
      "outputs": [
        {
          "output_type": "stream",
          "name": "stderr",
          "text": [
            "/usr/local/lib/python3.10/dist-packages/seaborn/distributions.py:499: FutureWarning: In a future version, the Index constructor will not infer numeric dtypes when passed object-dtype sequences (matching Series behavior)\n",
            "  pd.Index(edges, name=\"edges\"),\n",
            "/usr/local/lib/python3.10/dist-packages/seaborn/distributions.py:500: FutureWarning: In a future version, the Index constructor will not infer numeric dtypes when passed object-dtype sequences (matching Series behavior)\n",
            "  pd.Index(widths, name=\"widths\"),\n"
          ]
        },
        {
          "output_type": "display_data",
          "data": {
            "text/plain": [
              "<Figure size 750x750 with 12 Axes>"
            ],
            "image/png": "[encoded data removed]"
          },
          "metadata": {}
        }
      ]
    },
    {
      "cell_type": "code",
      "source": [
        "df.to_csv('zameen_property_details.csv', index=False)"
      ],
      "metadata": {
        "id": "EHpPG_p8kGrB"
      },
      "execution_count": null,
      "outputs": []
    }
  ]
}