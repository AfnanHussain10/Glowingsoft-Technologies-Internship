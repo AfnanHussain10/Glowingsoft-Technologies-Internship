{
  "nbformat": 4,
  "nbformat_minor": 0,
  "metadata": {
    "colab": {
      "provenance": []
    },
    "kernelspec": {
      "name": "python3",
      "display_name": "Python 3"
    },
    "language_info": {
      "name": "python"
    }
  },
  "cells": [
    {
      "cell_type": "code",
      "execution_count": null,
      "metadata": {
        "id": "buhEiSekU1S5"
      },
      "outputs": [],
      "source": [
        "import requests\n",
        "from bs4 import BeautifulSoup\n",
        "import csv"
      ]
    },
    {
      "cell_type": "code",
      "source": [
        "def scrape_linkedin(url, keywords, max_posts):\n",
        "    try:\n",
        "        response = requests.get(url)\n",
        "        response.raise_for_status()\n",
        "\n",
        "        soup = BeautifulSoup(response.content, 'html.parser')\n",
        "        posts = []\n",
        "\n",
        "        for post in soup.find_all('article', {'class': 'feed-shared-update-v2'}):\n",
        "            post_text = post.get_text()\n",
        "            if any(keyword in post_text for keyword in keywords):\n",
        "                post_url = url\n",
        "                user_name = post.find('span', {'class': 'name'}).get_text()\n",
        "                posts.append((post_url, user_name))\n",
        "                if len(posts) >= max_posts:\n",
        "                    break\n",
        "\n",
        "        return posts\n",
        "    except requests.exceptions.RequestException as e:\n",
        "        print(f\"Error while scraping LinkedIn: {e}\")\n",
        "        return []\n"
      ],
      "metadata": {
        "id": "kLPcQPFrbt1n"
      },
      "execution_count": null,
      "outputs": []
    },
    {
      "cell_type": "code",
      "source": [
        "def scrape_facebook(url, keywords, max_posts):\n",
        "    try:\n",
        "        response = requests.get(url)\n",
        "        response.raise_for_status()\n",
        "\n",
        "        soup = BeautifulSoup(response.content, 'html.parser')\n",
        "        posts = []\n",
        "\n",
        "        for post in soup.find_all('div', {'class': 'userContentWrapper'}):\n",
        "            post_text = post.get_text()\n",
        "            if any(keyword in post_text for keyword in keywords):\n",
        "                post_url = url  # Facebook URLs might not be directly accessible in the HTML\n",
        "                user_name = post.find('span', {'class': 'fwb'}).get_text()\n",
        "                posts.append((post_url, user_name))\n",
        "                if len(posts) >= max_posts:\n",
        "                    break\n",
        "\n",
        "        return posts\n",
        "    except requests.exceptions.RequestException as e:\n",
        "        print(f\"Error while scraping Facebook: {e}\")\n",
        "        return []\n"
      ],
      "metadata": {
        "id": "JUfJ-i2wb3V8"
      },
      "execution_count": null,
      "outputs": []
    },
    {
      "cell_type": "code",
      "source": [
        "def scrape_twitter(url, keywords, max_posts):\n",
        "    try:\n",
        "        response = requests.get(url)\n",
        "        response.raise_for_status()\n",
        "\n",
        "        soup = BeautifulSoup(response.content, 'html.parser')\n",
        "        posts = []\n",
        "\n",
        "        for tweet in soup.find_all('div', {'class': 'tweet'}):\n",
        "            tweet_text = tweet.get_text()\n",
        "            if any(keyword in tweet_text for keyword in keywords):\n",
        "                post_url = url  # Twitter URLs might not be directly accessible in the HTML\n",
        "                user_name = tweet.find('span', {'class': 'username'}).get_text()\n",
        "                posts.append((post_url, user_name))\n",
        "                if len(posts) >= max_posts:\n",
        "                    break\n",
        "\n",
        "        return posts\n",
        "    except requests.exceptions.RequestException as e:\n",
        "        print(f\"Error while scraping Twitter: {e}\")\n",
        "        return []\n"
      ],
      "metadata": {
        "id": "hVgm5Jqqb6f3"
      },
      "execution_count": null,
      "outputs": []
    },
    {
      "cell_type": "code",
      "source": [
        "import requests\n",
        "from bs4 import BeautifulSoup\n",
        "import csv\n",
        "\n",
        "def get_user_input(prompt):\n",
        "    return input(prompt)\n",
        "\n",
        "def main():\n",
        "    websites = ['LinkedIn', 'Facebook', 'Twitter']\n",
        "    keywords = input(\"Enter keywords (comma-separated): \").split(',')\n",
        "    max_posts = int(input(\"Enter the maximum number of posts to scrape per website: \"))\n",
        "\n",
        "    scraped_data = []\n",
        "\n",
        "    for website in websites:\n",
        "        url = get_user_input(f\"Enter URL or name for {website}: \")\n",
        "\n",
        "        if website.lower() == 'linkedin':\n",
        "            # Implement LinkedIn scraping logic\n",
        "            scraped_data.extend(scrape_linkedin(url, keywords, max_posts))\n",
        "            pass\n",
        "        elif website.lower() == 'facebook':\n",
        "            # Implement Facebook scraping logic\n",
        "            scraped_data.extend(scrape_facebook(url, keywords, max_posts))\n",
        "            pass\n",
        "        elif website.lower() == 'twitter':\n",
        "            # Implement Twitter scraping logic\n",
        "            scraped_data.extend(scrape_twitter(url, keywords, max_posts))\n",
        "            pass\n",
        "\n",
        "\n",
        "\n",
        "    # Save the scraped data to a CSV file\n",
        "    with open('scraped_data.csv', 'w', newline='', encoding='utf-8') as csvfile:\n",
        "        csv_writer = csv.writer(csvfile)\n",
        "        csv_writer.writerow(['Post URL', 'User Name'])\n",
        "        csv_writer.writerows(scraped_data)\n",
        "\n",
        "    print(\"Scraping and data saving completed.\")\n",
        "\n",
        "if __name__ == \"__main__\":\n",
        "    main()\n"
      ],
      "metadata": {
        "colab": {
          "base_uri": "https://localhost:8080/"
        },
        "id": "vF_QuDYiVG6f",
        "outputId": "04b89b36-d1b0-4e03-b121-0f1ca30d73b0"
      },
      "execution_count": null,
      "outputs": [
        {
          "output_type": "stream",
          "name": "stdout",
          "text": [
            "Enter keywords (comma-separated): side,hustle,internship,Google\n",
            "Enter the maximum number of posts to scrape per website: 5\n",
            "Enter URL or name for LinkedIn: https://www.linkedin.com/in/afnan-hussain/recent-activity/all/\n",
            "Enter URL or name for Facebook: https://www.facebook.com/afnan.hussain.7\n",
            "Enter URL or name for Twitter: \n",
            "Error while scraping Twitter: Invalid URL '': No scheme supplied. Perhaps you meant https://?\n",
            "Scraping and data saving completed.\n"
          ]
        }
      ]
    }
  ]
}